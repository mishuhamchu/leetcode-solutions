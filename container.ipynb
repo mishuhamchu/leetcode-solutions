   def maxArea(self, height):
        maxHeight = 0
        for i,element in enumerate(height):
            for j in range(i+1, len(height)):
                area = min(height[j], element) * (j - i)
                if (area > maxHeight):
                    maxHeight = area
        return maxHeight
