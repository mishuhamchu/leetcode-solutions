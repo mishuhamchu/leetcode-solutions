
class Solution:

    def unique( s):
 
        for i in len(s):
            for j in in range(i+1, len(s)):
                if (s[i] == s[j]):
                    return False
        

    def longestUniqueCharacterSubstring(self, s):
        max_k = 0
        for i in len(s):
            end_index = len(s)
                for (j in range(i + 1, len(s))):
                    if (s[i] == s[j]):
                        end_index = (j-1)
        
            new_str = s[i :: end_index]
            
            
            while ( unique(new_str) == False):
                new_str = new_str[i :: end_index-1]
            
            if (len(new_str) > max_k):
                max_k = len(new_str)
    return max_k
