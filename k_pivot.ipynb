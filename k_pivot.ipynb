class Solution:

    def pivot(nums):
        if (nums[len(nums)/2] < nums[len(nums)/2  - 1]):
            return len(nums)/2
    
            left = pivot (0, nums[0 :: len(nums)/2])
            right = pivot(len(nums/2) +1, len(nums))

    
    def binary_search(arr, low, high, x):
        if high >= low:
 
            mid = (high + low) // 2

        # If element is present at the middle itself
            if arr[mid] == x:
                return mid
            elif arr[mid] > x: if high >= low:
 
                mid = (high + low) // 2
 
        # If element is present at the middle itself
        if arr[mid] == x:
            return mid
 
        # If element is smaller than mid, then it can only
        # be present in left subarray
        elif arr[mid] > x:
            return binary_search(arr, low, mid - 1, x)
 
        # Else the element can only be present in right subarray
        else:
            return binary_search(arr, mid + 1, high, x)
 
    else:
        # Element is not present in the array
        return -1
                return binary_search(arr, low, mid - 1, x)
    
            # Else the element can only be present in right subarray
            else:
                return binary_search(arr, mid + 1, high, x)
 
        else:
        # Element is not present in the array
            return -1
    
    def search(self, nums: List[int], target: int) -> int:
       k = pivot(nums)
       left = binary_search(nums, 0, k-1, x)
       right = binarySearch(nums, k, len(nums),  x)
          
       
        
