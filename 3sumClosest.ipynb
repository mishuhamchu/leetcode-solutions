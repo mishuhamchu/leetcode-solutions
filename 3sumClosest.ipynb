import math
class Solution(object):
    def threeSumClosest(self, nums, target):
        nums.sort()
        counter1 = 0
        counter2 = int(len(nums)/2)
        counter3 = len(nums)-1
        lst = [ 1,6,8]
        
        closestSum =  21321253523
        print(type(nums))
        print(type(target))
        print(nums[counter1])
        
        while (counter3 - counter1 > 1):
            counter2 = int((counter1 + counter3)/2)
            print("this is counter1: " + str(counter1))
            print("this is counter2: " + str(counter2))
            print("this is counter3: " + str(counter3))
            while (counter2 != counter1 and counter2 != counter3):
                
                sum = nums[counter1] + nums[counter2] + nums[counter3]
                print(sum)
                
                
                if (  sum - target < closestSum):
                    closestSum = abs(sum) - target
                    lst[0] = nums[counter1]
                    lst[1] = nums[counter2]
                    lst[2] = nums[counter3]
                if (sum < target):
                    counter2-=1
                    counter2+=1
                else:
                    return (sum)
          
            counter1+=1
            counter3-=1
        
        return lst[0] + lst[1] + lst[2]


        
