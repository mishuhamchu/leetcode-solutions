{
  "nbformat": 4,
  "nbformat_minor": 0,
  "metadata": {
    "colab": {
      "provenance": []
    },
    "kernelspec": {
      "name": "python3",
      "display_name": "Python 3"
    },
    "language_info": {
      "name": "python"
    }
  },
  "cells": [
    {
      "cell_type": "code",
      "execution_count": null,
      "metadata": {
        "id": "XWSxywh1NLVM"
      },
      "outputs": [],
      "source": [
        "import copy as cp\n",
        "class Solution(object):\n",
        "    def printMatrix(matrix):\n",
        "        for  i in range( len(matrix)):\n",
        "            print(\"\\n\")\n",
        "            for j in range(len(matrix)):\n",
        "                print(matrix[i][j])\n",
        "\n",
        "    def rotate(self, matrix):\n",
        "        originalMatrix = copy.deepcopy(matrix)\n",
        "        j = len(matrix)-1\n",
        "\n",
        "        k = 0\n",
        "        i = 0\n",
        "        while (j >= 0):\n",
        "            print(\"ENTERED THE OUTER LOOP\")\n",
        "\n",
        "            i = 0\n",
        "            while (i < len(matrix)):\n",
        "\n",
        "                print(\"matrix[i][j] before: \" + str(matrix[i][j]))\n",
        "                matrix[i][j] = originalMatrix[k][i]\n",
        "                print(\"matrix[i][j] after: \" + str(matrix[i][j]))\n",
        "                i+=1\n",
        "\n",
        "\n",
        "            j-=1\n",
        "\n",
        "            k+=1\n",
        "\n",
        "\n",
        ""
      ]
    }
  ]
}