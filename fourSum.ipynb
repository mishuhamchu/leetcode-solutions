class Solution(object):
    def fourSum(self, nums, target):
        nums.sort()
        counter1 = 0
        counter2 = 1
        counter3 = len(nums)-2
        counter4 = len(nums)-1
        arr = []
        check = 0
        print(nums)
        print(target)
        while (counter4- counter1 > 3):
            print("in this loop 1")
            while(  counter3 - counter2 > 1):
                print("in this loop 2")
                print("these are the counter variables: " + (str(counter1) + (" ") + str(counter2) + " " + str(counter3) + " " + str(counter4)))
                check = nums[counter1] + nums[counter2] + nums[counter3] + nums[counter4]
                if (check > target ):
                    counter3-=1
                elif (check < target ):
                    counter2+=1
                else:
                    
                    arr.append( [nums[counter1],  nums[counter2],  nums[counter3],  nums[counter4]])
                    counter3-=1
                    counter2+=1

            
        return arr
        
        
